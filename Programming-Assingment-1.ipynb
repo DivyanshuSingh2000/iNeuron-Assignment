{
 "cells": [
  {
   "cell_type": "markdown",
   "id": "8ade5b33",
   "metadata": {},
   "source": [
    "# 1. Write a Python program to print \"Hello Python\"?"
   ]
  },
  {
   "cell_type": "code",
   "execution_count": 1,
   "id": "980c5aad",
   "metadata": {},
   "outputs": [
    {
     "name": "stdout",
     "output_type": "stream",
     "text": [
      "Hello Python\n"
     ]
    }
   ],
   "source": [
    "print(\"Hello Python\")"
   ]
  },
  {
   "cell_type": "markdown",
   "id": "cf9794d1",
   "metadata": {},
   "source": [
    "# 2. Write a Python program to do arithmetical operations addition and division.?"
   ]
  },
  {
   "cell_type": "code",
   "execution_count": 2,
   "id": "69fa695f",
   "metadata": {},
   "outputs": [
    {
     "name": "stdout",
     "output_type": "stream",
     "text": [
      "arithmetic addition 12 \n",
      " arithmetic division 3.0\n"
     ]
    }
   ],
   "source": [
    "a = 9\n",
    "b = 3\n",
    "print(\"arithmetic addition\",a+b,\"\\n\",\"arithmetic division\",a/b)"
   ]
  },
  {
   "cell_type": "markdown",
   "id": "40babeba",
   "metadata": {},
   "source": [
    "# 3. Write a Python program to find the area of a triangle?"
   ]
  },
  {
   "cell_type": "code",
   "execution_count": 4,
   "id": "aca44c04",
   "metadata": {},
   "outputs": [
    {
     "name": "stdout",
     "output_type": "stream",
     "text": [
      "Enter the height: 5\n",
      "Enter the base: 6\n",
      "area of triangle 15.0\n"
     ]
    }
   ],
   "source": [
    "import pyinputplus as pp\n",
    "\n",
    "height = pp.inputFloat(\"Enter the height: \", greaterThan=0)\n",
    "base = pp.inputFloat(\"Enter the base: \", greaterThan=0)\n",
    "\n",
    "#calculating area\n",
    "area = height*base*0.5\n",
    "\n",
    "print(\"area of triangle\",area)"
   ]
  },
  {
   "cell_type": "markdown",
   "id": "efad82e2",
   "metadata": {},
   "source": [
    "# 4. Write a Python program to swap two variables?"
   ]
  },
  {
   "cell_type": "code",
   "execution_count": 6,
   "id": "3cf0da28",
   "metadata": {},
   "outputs": [
    {
     "name": "stdout",
     "output_type": "stream",
     "text": [
      "Before swap using temp\n",
      "a : 10 and b : 5\n",
      "After swap using temp\n",
      "a : 5 and b : 10\n",
      "\n",
      "Before swap using Arithmic\n",
      "a : 10 and b : 5\n",
      "After swap using Arithmic\n",
      "a : 5 and b : 10\n",
      "\n",
      "Before swap using Py operator\n",
      "a : 10 and b : 5\n",
      "After swap using Py operator\n",
      "a : 5 and b : 10\n"
     ]
    }
   ],
   "source": [
    "#first way\n",
    "def usingTemp(a,b):\n",
    "    print(\"Before swap using temp\\na : {0} and b : {1}\".format(a,b))\n",
    "    temp = a\n",
    "    a = b\n",
    "    b = temp\n",
    "    print(\"After swap using temp\\na : {0} and b : {1}\".format(a,b))\n",
    "\n",
    "#second way\n",
    "def usingArithmetics(a,b):\n",
    "    print(\"Before swap using Arithmic\\na : {0} and b : {1}\".format(a,b))\n",
    "    a = a + b\n",
    "    b = a - b\n",
    "    a = a - b\n",
    "    print(\"After swap using Arithmic\\na : {0} and b : {1}\".format(a,b))\n",
    "\n",
    "#third way\n",
    "def usingPy(a,b):\n",
    "    print(\"Before swap using Py operator\\na : {0} and b : {1}\".format(a,b))\n",
    "    a,b = b,a\n",
    "    print(\"After swap using Py operator\\na : {0} and b : {1}\".format(a,b))\n",
    "\n",
    "usingTemp(10,5)\n",
    "print()\n",
    "usingArithmetics(10,5)\n",
    "print()\n",
    "usingPy(10,5)"
   ]
  },
  {
   "cell_type": "markdown",
   "id": "269b8bf0",
   "metadata": {},
   "source": [
    "# 5. Write a Python program to generate a random number?"
   ]
  },
  {
   "cell_type": "code",
   "execution_count": 7,
   "id": "ba952ab9",
   "metadata": {},
   "outputs": [
    {
     "name": "stdout",
     "output_type": "stream",
     "text": [
      "0.9588534072170485\n"
     ]
    }
   ],
   "source": [
    "import random as r\n",
    "print(r.random())"
   ]
  },
  {
   "cell_type": "code",
   "execution_count": null,
   "id": "f790b204",
   "metadata": {},
   "outputs": [],
   "source": []
  }
 ],
 "metadata": {
  "kernelspec": {
   "display_name": "Python 3 (ipykernel)",
   "language": "python",
   "name": "python3"
  },
  "language_info": {
   "codemirror_mode": {
    "name": "ipython",
    "version": 3
   },
   "file_extension": ".py",
   "mimetype": "text/x-python",
   "name": "python",
   "nbconvert_exporter": "python",
   "pygments_lexer": "ipython3",
   "version": "3.9.7"
  }
 },
 "nbformat": 4,
 "nbformat_minor": 5
}
