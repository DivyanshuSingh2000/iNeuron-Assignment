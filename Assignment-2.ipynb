{
 "cells": [
  {
   "cell_type": "markdown",
   "id": "41836f45",
   "metadata": {},
   "source": [
    "# Q1) What are the two values of the Boolean data type? How do you write them?"
   ]
  },
  {
   "cell_type": "raw",
   "id": "d5e85bc5",
   "metadata": {},
   "source": [
    "The two value that bool can have is --> True and False\n",
    "write it like --> True False"
   ]
  },
  {
   "cell_type": "markdown",
   "id": "93474e01",
   "metadata": {},
   "source": [
    "# Q2. What are the three different types of Boolean operators?"
   ]
  },
  {
   "cell_type": "raw",
   "id": "3ded0a93",
   "metadata": {},
   "source": [
    "The three different type of bool operators are\n",
    "1) AND\n",
    "2) OR\n",
    "3) NOT"
   ]
  },
  {
   "cell_type": "markdown",
   "id": "804d964b",
   "metadata": {},
   "source": [
    "# Q3. Make a list of each Boolean operator&#39;s truth tables (i.e. every possible combination of Boolean values for the operator and what it evaluate )."
   ]
  },
  {
   "cell_type": "raw",
   "id": "1466ae86",
   "metadata": {},
   "source": [
    "AND              OR           NOT  \n",
    "X Y  X.Y         X Y  X+Y     X  X'\n",
    "0 0   0          0 0   0      0  1\n",
    "0 1   0          0 1   1      1  0\n",
    "1 0   0          1 0   1\n",
    "1 1   1          1 1   1"
   ]
  },
  {
   "cell_type": "markdown",
   "id": "a0cf490c",
   "metadata": {},
   "source": [
    "# 4. What are the values of the following expressions?"
   ]
  },
  {
   "cell_type": "raw",
   "id": "6bc90aa7",
   "metadata": {},
   "source": [
    "(5 > 4) and (3 == 5)                --> 1.0 = 0 (False)\n",
    "not (5 > 4)                         --> 1' = 0 (False)\n",
    "(5 > 4) or (3 == 5)                 --> 1+0 = 1 (True)\n",
    "not ((5 > 4) or (3 == 5))           --> (1+0)' = 0 (False)\n",
    "(True and True) and (True == False) --> (1.1).(0) = 0\n",
    "(not False) or (not True)           --> 0' + 1' = 1 + 0 = 1"
   ]
  },
  {
   "cell_type": "markdown",
   "id": "44a723ea",
   "metadata": {},
   "source": [
    "# 5. What are the six comparison operators?"
   ]
  },
  {
   "cell_type": "raw",
   "id": "cd8c55ea",
   "metadata": {},
   "source": [
    "1) >\n",
    "2) <\n",
    "3) ==\n",
    "4) >=\n",
    "5) <=\n",
    "6) !="
   ]
  },
  {
   "cell_type": "markdown",
   "id": "f2fb4929",
   "metadata": {},
   "source": [
    "# 6. How do you tell the difference between the equal to and assignment operators?Describe a condition and when you would use one."
   ]
  },
  {
   "cell_type": "raw",
   "id": "d76c41d8",
   "metadata": {},
   "source": [
    "Equals to --> is used to check the equality of contains at left and right side of equal to symbol.Here two equal symbol are used\n",
    "Example --> 3 == 4 , 5==5\n",
    "\n",
    "Assignment --> is used to assign a value to a variable. if we use assignment operator then the value present at right hand side \n",
    "will assign to variable present at left side of equal symbol.\n",
    "Example --> var = 5, ab = 5+8-7/9*1"
   ]
  },
  {
   "cell_type": "markdown",
   "id": "091a95ae",
   "metadata": {},
   "source": [
    "# 7. Identify the three blocks in this code:"
   ]
  },
  {
   "cell_type": "raw",
   "id": "791564fa",
   "metadata": {},
   "source": [
    "spam = 0\n",
    "####################\n",
    "if spam == 10:    #\n",
    "    print('eggs') #\n",
    "####################\n",
    "\n",
    "####################\n",
    "if spam > 5:       #\n",
    "    print('bacon') #\n",
    "####################\n",
    "\n",
    "####################\n",
    "else:              #\n",
    "    print('ham')   #\n",
    "    print('spam')  #\n",
    "    print('spam')  #\n",
    "####################"
   ]
  },
  {
   "cell_type": "markdown",
   "id": "8b7580d8",
   "metadata": {},
   "source": [
    "# 8. Write code that prints Hello if 1 is stored in spam, prints Howdy if 2 is stored in spam, and prints Greetings! if anything else is stored in spam."
   ]
  },
  {
   "cell_type": "code",
   "execution_count": 3,
   "id": "3009b9ea",
   "metadata": {},
   "outputs": [
    {
     "name": "stdout",
     "output_type": "stream",
     "text": [
      "2\n",
      "Howdy\n"
     ]
    }
   ],
   "source": [
    "spam = int(input())\n",
    "if spam == 1:\n",
    "    print('Hello')\n",
    "elif spam == 2:\n",
    "    print('Howdy')\n",
    "else:\n",
    "    print('Greetings!')"
   ]
  },
  {
   "cell_type": "markdown",
   "id": "80f45bd0",
   "metadata": {},
   "source": [
    "# 9.If your programme is stuck in an endless loop, what keys you’ll press?"
   ]
  },
  {
   "cell_type": "markdown",
   "id": "fdc62777",
   "metadata": {},
   "source": [
    "ctrl + c"
   ]
  },
  {
   "cell_type": "markdown",
   "id": "b3d75a21",
   "metadata": {},
   "source": [
    "# 10. How can you tell the difference between break and continue?"
   ]
  },
  {
   "cell_type": "code",
   "execution_count": 6,
   "id": "c1be8542",
   "metadata": {},
   "outputs": [
    {
     "name": "stdout",
     "output_type": "stream",
     "text": [
      "0 1 \n",
      "0 1 3 4 5 6 7 8 9 "
     ]
    }
   ],
   "source": [
    "#Break is used to exit the loop.\n",
    "for i in range(10):\n",
    "       if i == 2:\n",
    "           break\n",
    "       print(i, end = ' ')\n",
    "#output--> 0 1 \n",
    "\n",
    "print() # to change the line\n",
    "\n",
    "#Continue is used to skip the current iteration.\n",
    "for i in range(10):\n",
    "       if i == 2:\n",
    "           continue\n",
    "       print(i , end = ' ')\n",
    " #output --> 0 1 3 4 5 6 7 8 9"
   ]
  },
  {
   "cell_type": "markdown",
   "id": "af390419",
   "metadata": {},
   "source": [
    "# 11. In a for loop, what is the difference between range(10), range(0, 10), and range(0, 10, 1)?"
   ]
  },
  {
   "cell_type": "raw",
   "id": "eb297565",
   "metadata": {},
   "source": [
    "range can have three parameters --> starting value , ending value and steps\n",
    "\n",
    "range(10) --> if one value provided then its means its an ending value ( output--> 0 1 2 3 4 5 6 7 8 9 )\n",
    "\n",
    "range(0,10) --> if two value is provided the its mean first is for starting and second is for ending (output--> 0 1 2 3 4 5 6 7 8 9 10)\n",
    "\n",
    "range(0,10,1) --> if three value is provided then third value is for the step to be taken.( output--> 0 1 2 3 4 5 6 7 8 9 )"
   ]
  },
  {
   "cell_type": "markdown",
   "id": "53c7f100",
   "metadata": {},
   "source": [
    "# 12. Write a short program that prints the numbers 1 to 10 using a for loop. Then write an equivalent program that prints the numbers 1 to 10 using a while loop."
   ]
  },
  {
   "cell_type": "code",
   "execution_count": 10,
   "id": "981314f4",
   "metadata": {},
   "outputs": [
    {
     "name": "stdout",
     "output_type": "stream",
     "text": [
      "1 2 3 4 5 6 7 8 9 10 \n",
      "1 2 3 4 5 6 7 8 9 10 "
     ]
    }
   ],
   "source": [
    "# Using for loop\n",
    "for i in range(1,11):\n",
    "    print(i , end= ' ')\n",
    "\n",
    "# Using while loop\n",
    "print() # to change the line\n",
    "i = 1\n",
    "while(i <= 10):\n",
    "    print(i, end=' ')\n",
    "    i += 1"
   ]
  },
  {
   "cell_type": "markdown",
   "id": "77bb12c0",
   "metadata": {},
   "source": [
    "# 13. If you had a function named bacon() inside a module named spam, how would you call it after importing spam?"
   ]
  },
  {
   "cell_type": "code",
   "execution_count": null,
   "id": "5f2c7c27",
   "metadata": {},
   "outputs": [],
   "source": [
    "import spam\n",
    "spam.bacon()\n"
   ]
  },
  {
   "cell_type": "code",
   "execution_count": null,
   "id": "260217ca",
   "metadata": {},
   "outputs": [],
   "source": []
  }
 ],
 "metadata": {
  "kernelspec": {
   "display_name": "Python 3 (ipykernel)",
   "language": "python",
   "name": "python3"
  },
  "language_info": {
   "codemirror_mode": {
    "name": "ipython",
    "version": 3
   },
   "file_extension": ".py",
   "mimetype": "text/x-python",
   "name": "python",
   "nbconvert_exporter": "python",
   "pygments_lexer": "ipython3",
   "version": "3.9.7"
  }
 },
 "nbformat": 4,
 "nbformat_minor": 5
}
