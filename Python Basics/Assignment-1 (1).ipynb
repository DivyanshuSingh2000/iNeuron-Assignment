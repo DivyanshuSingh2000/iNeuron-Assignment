{
 "cells": [
  {
   "cell_type": "markdown",
   "id": "746b3a2c",
   "metadata": {},
   "source": [
    "# Q1"
   ]
  },
  {
   "cell_type": "markdown",
   "id": "cc0e2f6f",
   "metadata": {},
   "source": [
    "* \n",
    "(Expression)\n",
    "\n",
    "'Hello'\n",
    "(Value String type)\n",
    "\n",
    "-87.8\n",
    "(Value floating type)\n",
    "\n",
    "-\n",
    "(Expression)\n",
    "\n",
    "/\n",
    "(Expression)\n",
    "\n",
    "+\n",
    "(Expression)\n",
    "\n",
    "6\n",
    "(Value Int Type)"
   ]
  },
  {
   "cell_type": "markdown",
   "id": "012db086",
   "metadata": {},
   "source": [
    "# 2. What is the difference between string and variable?"
   ]
  },
  {
   "cell_type": "markdown",
   "id": "79475915",
   "metadata": {},
   "source": [
    "A string is a data type used to store a sequence of characters, we can create a string using single, double or triple quotes.\n",
    "Example 'hello',\"it's new\"\n",
    "Where as variables are used to store data (like int , float, str,bool,..)\n",
    "there is various conditions to make variables like characters and digits and underscore can only be used in variable naming.\n",
    "and variables can not start with digit and can not be a keyword"
   ]
  },
  {
   "cell_type": "markdown",
   "id": "06988599",
   "metadata": {},
   "source": [
    "# Q3 Describe three different data types."
   ]
  },
  {
   "cell_type": "markdown",
   "id": "9f90749e",
   "metadata": {},
   "source": [
    "1) int --> numbers without any decimal values are called integer type like 1 2 3 68\n",
    "2) float --> numbers with any decimal are called float like 5.6 8.4\n",
    "3) boolean --> True and False are consider in bool type."
   ]
  },
  {
   "cell_type": "markdown",
   "id": "38c93cb4",
   "metadata": {},
   "source": [
    "# Q4. What is an expression made up of? What do all expressions do?"
   ]
  },
  {
   "cell_type": "markdown",
   "id": "f3a390de",
   "metadata": {},
   "source": [
    "expression is a collection of operators and operands like 8+9/7-9\n",
    "we used expression to get a particular result"
   ]
  },
  {
   "cell_type": "markdown",
   "id": "9ae45287",
   "metadata": {},
   "source": [
    "# 5. This assignment statements, like spam = 10. What is the difference between an expression and a statement?"
   ]
  },
  {
   "cell_type": "markdown",
   "id": "a177c9dd",
   "metadata": {},
   "source": [
    "Expression only have operators and operands like 9*8/5\n",
    "where in assignment operations we store the expressions result in a variable like a = 9*8/5"
   ]
  },
  {
   "cell_type": "markdown",
   "id": "bfcd3730",
   "metadata": {},
   "source": [
    "# Q6. After running the following code, what does the variable bacon contain?\n",
    "## bacon = 22\n",
    "## bacon + 1"
   ]
  },
  {
   "cell_type": "markdown",
   "id": "f5c53bf8",
   "metadata": {},
   "source": [
    "bacon will contain 22 as bacon + 1 is not saving in bacon"
   ]
  },
  {
   "cell_type": "markdown",
   "id": "ba0b6b93",
   "metadata": {},
   "source": [
    "# Q7. What should the values of the following two terms be?\n",
    "## 'spam' + 'spamspam'\n",
    "## 'spam' * 3"
   ]
  },
  {
   "cell_type": "markdown",
   "id": "04280d9e",
   "metadata": {},
   "source": [
    "spamspamspam\n",
    "spamspamspam"
   ]
  },
  {
   "cell_type": "markdown",
   "id": "c5929650",
   "metadata": {},
   "source": [
    "# Q8. Why is eggs a valid variable name while 100 is invalid?"
   ]
  },
  {
   "cell_type": "markdown",
   "id": "4ba7e090",
   "metadata": {},
   "source": [
    "Variables name can be start from characters and underscore but starting with digit is not allowed\n",
    "that is why eggs is allowed and 100 is not"
   ]
  },
  {
   "cell_type": "markdown",
   "id": "e8330e0c",
   "metadata": {},
   "source": [
    "# Q9. What three functions can be used to get the integer, floating-point number, or string version of a value?"
   ]
  },
  {
   "cell_type": "markdown",
   "id": "7709a0ec",
   "metadata": {},
   "source": [
    "int() --> int\n",
    "float() --> floats\n",
    "str() --> string "
   ]
  },
  {
   "cell_type": "markdown",
   "id": "fb190d52",
   "metadata": {},
   "source": [
    "# 10. Why does this expression cause an error? How can you fix it?\n",
    "#### 'I have eaten '+ 99+'burritos'"
   ]
  },
  {
   "cell_type": "markdown",
   "id": "b62c991a",
   "metadata": {},
   "source": [
    "int and str can not be added, change 99 to str(99)"
   ]
  },
  {
   "cell_type": "code",
   "execution_count": null,
   "id": "ef8e5f43",
   "metadata": {},
   "outputs": [],
   "source": []
  }
 ],
 "metadata": {
  "kernelspec": {
   "display_name": "Python 3 (ipykernel)",
   "language": "python",
   "name": "python3"
  },
  "language_info": {
   "codemirror_mode": {
    "name": "ipython",
    "version": 3
   },
   "file_extension": ".py",
   "mimetype": "text/x-python",
   "name": "python",
   "nbconvert_exporter": "python",
   "pygments_lexer": "ipython3",
   "version": "3.9.7"
  }
 },
 "nbformat": 4,
 "nbformat_minor": 5
}
