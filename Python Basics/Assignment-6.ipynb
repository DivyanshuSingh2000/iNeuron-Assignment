{
 "cells": [
  {
   "cell_type": "markdown",
   "id": "b85deffa",
   "metadata": {},
   "source": [
    "## 1. What are escape characters, and how do you use them?"
   ]
  },
  {
   "cell_type": "code",
   "execution_count": null,
   "id": "4de28a98",
   "metadata": {},
   "outputs": [],
   "source": [
    "In a string character starting from '\\' are known as escape character. it is used to insert some value which are difficult in directly using in string.\n",
    "'\\n' --> newline\n",
    "'\\t' --> tab\n",
    "...\n",
    "...\n",
    "Example \"Hello Everyone \\n I'm Divyanshu \\t Singh\""
   ]
  },
  {
   "cell_type": "markdown",
   "id": "9e27fe70",
   "metadata": {},
   "source": [
    "## 2. What do the escape characters n and t stand for?"
   ]
  },
  {
   "cell_type": "code",
   "execution_count": null,
   "id": "a455c32f",
   "metadata": {},
   "outputs": [],
   "source": [
    "\\n --> newline\n",
    "\\t --> tab"
   ]
  },
  {
   "cell_type": "markdown",
   "id": "f33bdb4c",
   "metadata": {},
   "source": [
    "## 3. What is the way to include backslash characters in a string?"
   ]
  },
  {
   "cell_type": "code",
   "execution_count": null,
   "id": "7b7eefd7",
   "metadata": {},
   "outputs": [],
   "source": [
    "\\\\"
   ]
  },
  {
   "cell_type": "markdown",
   "id": "035c046c",
   "metadata": {},
   "source": [
    "## 4. The string \"Howl's Moving Castle\" is a correct value. Why isn't the single quote character in the word Howl's not escaped a problem?\n"
   ]
  },
  {
   "cell_type": "code",
   "execution_count": null,
   "id": "443f2192",
   "metadata": {},
   "outputs": [],
   "source": [
    "'Howl's Moving Castle' --> here compiler will get confuse because it will consider string 'Howl' and rest is not understandable\n",
    "\"Howl's Moving Castle\" --> here compiler easily identifying starting and ending and considering (') as character"
   ]
  },
  {
   "cell_type": "markdown",
   "id": "5e4de278",
   "metadata": {},
   "source": [
    "## 5. How do you write a string of newlines if you don't want to use the n character?"
   ]
  },
  {
   "cell_type": "code",
   "execution_count": null,
   "id": "462ed388",
   "metadata": {},
   "outputs": [],
   "source": [
    "we can use print() statement several time to change the line."
   ]
  },
  {
   "cell_type": "markdown",
   "id": "71f93eba",
   "metadata": {},
   "source": [
    "## 6. What are the values of the given expressions?\n",
    "## 'Hello, world!'[1]\n",
    "## 'Hello, world!'[0:5]\n",
    "## 'Hello, world!'[:5]\n",
    "## 'Hello, world!'[3:]"
   ]
  },
  {
   "cell_type": "code",
   "execution_count": null,
   "id": "d2948550",
   "metadata": {},
   "outputs": [],
   "source": [
    "'Hello, world!'[1] --> e\n",
    "'Hello, world!'[0:5] --> Hello\n",
    "'Hello, world!'[:5] --> Hello\n",
    "'Hello, world!'[3:] --> lo, world!"
   ]
  },
  {
   "cell_type": "markdown",
   "id": "b8bb9362",
   "metadata": {},
   "source": [
    "## 7. What are the values of the following expressions?\n",
    "## 'Hello'.upper()\n",
    "## 'Hello'.upper().isupper()\n",
    "## 'Hello'.upper().lower()\n"
   ]
  },
  {
   "cell_type": "code",
   "execution_count": null,
   "id": "9b2051bf",
   "metadata": {},
   "outputs": [],
   "source": [
    "'Hello'.upper() --> HELLO\n",
    "'Hello'.upper().isupper() -->True\n",
    "'Hello'.upper().lower() --> hello"
   ]
  },
  {
   "cell_type": "markdown",
   "id": "b45da625",
   "metadata": {},
   "source": [
    "## 8. What are the values of the following expressions?\n",
    "## 'Remember, remember, the fifth of July.'.split()\n",
    "## '-'.join('There can only one.'.split())"
   ]
  },
  {
   "cell_type": "code",
   "execution_count": null,
   "id": "9df438fd",
   "metadata": {},
   "outputs": [],
   "source": [
    "#'Remember, remember, the fifth of July.'.split() --> ['Remember,', 'remember,', 'the', 'fifth', 'of', 'July.']\n",
    "'-'.join('There can only one.'.split()) --> 'There-can-only-one.'"
   ]
  },
  {
   "cell_type": "markdown",
   "id": "66b238b9",
   "metadata": {},
   "source": [
    "## 9. What are the methods for right-justifying, left-justifying, and centering a string?"
   ]
  },
  {
   "cell_type": "code",
   "execution_count": 10,
   "id": "cb7edef6",
   "metadata": {},
   "outputs": [
    {
     "name": "stdout",
     "output_type": "stream",
     "text": [
      "  ddd\n",
      "ddd  \n",
      " ddd \n"
     ]
    }
   ],
   "source": [
    "d = \"ddd\"\n",
    "print(d.rjust(5)) # right-justifying\n",
    "print(d.ljust(5)) # left-justifying\n",
    "print(d.center(5)) # centering"
   ]
  },
  {
   "cell_type": "markdown",
   "id": "f8f64a2a",
   "metadata": {},
   "source": [
    "## 10. What is the best way to remove whitespace characters from the start or end?"
   ]
  },
  {
   "cell_type": "code",
   "execution_count": 4,
   "id": "19c3ebcf",
   "metadata": {},
   "outputs": [
    {
     "name": "stdout",
     "output_type": "stream",
     "text": [
      "Removed from starting --> divyanshu     singh      \n",
      "Removed from ending -->        divyanshu     singh\n",
      "Removed from Both --> divyanshu     singh\n"
     ]
    }
   ],
   "source": [
    "s = \"       divyanshu     singh      \"\n",
    "\n",
    "#from starting\n",
    "print(\"Removed from starting -->\",s.lstrip())\n",
    "\n",
    "#from ending\n",
    "print(\"Removed from ending -->\",s.rstrip())\n",
    "\n",
    "#from both\n",
    "print(\"Removed from Both -->\",s.strip())"
   ]
  },
  {
   "cell_type": "code",
   "execution_count": null,
   "id": "4e204d49",
   "metadata": {},
   "outputs": [],
   "source": []
  }
 ],
 "metadata": {
  "kernelspec": {
   "display_name": "Python 3 (ipykernel)",
   "language": "python",
   "name": "python3"
  },
  "language_info": {
   "codemirror_mode": {
    "name": "ipython",
    "version": 3
   },
   "file_extension": ".py",
   "mimetype": "text/x-python",
   "name": "python",
   "nbconvert_exporter": "python",
   "pygments_lexer": "ipython3",
   "version": "3.9.7"
  }
 },
 "nbformat": 4,
 "nbformat_minor": 5
}
