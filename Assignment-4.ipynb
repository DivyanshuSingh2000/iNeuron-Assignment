{
 "cells": [
  {
   "cell_type": "markdown",
   "id": "1fbcee51",
   "metadata": {},
   "source": [
    "# 1. What exactly is []?"
   ]
  },
  {
   "cell_type": "code",
   "execution_count": 1,
   "id": "177feba2",
   "metadata": {
    "scrolled": true
   },
   "outputs": [
    {
     "data": {
      "text/plain": [
       "list"
      ]
     },
     "execution_count": 1,
     "metadata": {},
     "output_type": "execute_result"
    }
   ],
   "source": [
    "#Empty list\n",
    "type([])"
   ]
  },
  {
   "cell_type": "markdown",
   "id": "627f40db",
   "metadata": {},
   "source": [
    "# 2. In a list of values stored in a variable called spam, how would you assign the value &#39;hello&#39; as the third value? (Assume [2, 4, 6, 8, 10] are in spam.)"
   ]
  },
  {
   "cell_type": "code",
   "execution_count": 3,
   "id": "c1e83921",
   "metadata": {},
   "outputs": [
    {
     "name": "stdout",
     "output_type": "stream",
     "text": [
      "[2, 4, 'hello', 6, 8, 10]\n"
     ]
    }
   ],
   "source": [
    "spam = [2, 4, 6, 8, 10]\n",
    "spam.insert(2,'hello')\n",
    "print(spam)"
   ]
  },
  {
   "cell_type": "code",
   "execution_count": 4,
   "id": "0b94568c",
   "metadata": {},
   "outputs": [],
   "source": [
    "spam = ['a', 'b', 'c', 'd']"
   ]
  },
  {
   "cell_type": "markdown",
   "id": "ffb866ce",
   "metadata": {},
   "source": [
    "# 3. What is the value of spam[int(int(&#39;3&#39; * 2) / 11)]?"
   ]
  },
  {
   "cell_type": "code",
   "execution_count": null,
   "id": "c275d31c",
   "metadata": {},
   "outputs": [],
   "source": [
    "'3'*2 --> '33'\n",
    "int('33')/11 --> 3.0\n",
    "spam[int(3.0)] --> 'd'"
   ]
  },
  {
   "cell_type": "code",
   "execution_count": 5,
   "id": "68ba245d",
   "metadata": {},
   "outputs": [
    {
     "data": {
      "text/plain": [
       "'d'"
      ]
     },
     "execution_count": 5,
     "metadata": {},
     "output_type": "execute_result"
    }
   ],
   "source": [
    "#output\n",
    "spam[int(int('3'*2)/11)]"
   ]
  },
  {
   "cell_type": "markdown",
   "id": "4f466763",
   "metadata": {},
   "source": [
    "# 4. What is the value of spam[-1]?"
   ]
  },
  {
   "cell_type": "code",
   "execution_count": 6,
   "id": "71bf311f",
   "metadata": {},
   "outputs": [
    {
     "data": {
      "text/plain": [
       "'d'"
      ]
     },
     "execution_count": 6,
     "metadata": {},
     "output_type": "execute_result"
    }
   ],
   "source": [
    "#last value of spam ('d')\n",
    "spam[-1]"
   ]
  },
  {
   "cell_type": "markdown",
   "id": "32485ede",
   "metadata": {},
   "source": [
    "# 5. What is the value of spam[:2]?"
   ]
  },
  {
   "cell_type": "code",
   "execution_count": 7,
   "id": "0c3129af",
   "metadata": {},
   "outputs": [
    {
     "data": {
      "text/plain": [
       "['a', 'b']"
      ]
     },
     "execution_count": 7,
     "metadata": {},
     "output_type": "execute_result"
    }
   ],
   "source": [
    "#from starting till index 1, all values\n",
    "spam[:2]"
   ]
  },
  {
   "cell_type": "code",
   "execution_count": 8,
   "id": "ce915877",
   "metadata": {},
   "outputs": [],
   "source": [
    "bacon = [3.14,'cat',11,'cat',True]"
   ]
  },
  {
   "cell_type": "markdown",
   "id": "e017bea0",
   "metadata": {},
   "source": [
    "# 6. What is the value of bacon.index(&#39;cat&#39;)?"
   ]
  },
  {
   "cell_type": "code",
   "execution_count": 9,
   "id": "31dfdaec",
   "metadata": {},
   "outputs": [
    {
     "data": {
      "text/plain": [
       "1"
      ]
     },
     "execution_count": 9,
     "metadata": {},
     "output_type": "execute_result"
    }
   ],
   "source": [
    "#1 will be return\n",
    "bacon.index('cat')"
   ]
  },
  {
   "cell_type": "markdown",
   "id": "2c77fd24",
   "metadata": {},
   "source": [
    "# 7. How does bacon.append(99) change the look of the list value in bacon?"
   ]
  },
  {
   "cell_type": "code",
   "execution_count": 10,
   "id": "93e49c4a",
   "metadata": {},
   "outputs": [
    {
     "data": {
      "text/plain": [
       "[3.14, 'cat', 11, 'cat', True, 99]"
      ]
     },
     "execution_count": 10,
     "metadata": {},
     "output_type": "execute_result"
    }
   ],
   "source": [
    "#in bacon list a new value 99 will be added at last position of the list\n",
    "bacon.append(99)\n",
    "bacon"
   ]
  },
  {
   "cell_type": "markdown",
   "id": "3f07fbe7",
   "metadata": {},
   "source": [
    "# 8. How does bacon.remove(&#39;cat&#39;) change the look of the list in bacon?"
   ]
  },
  {
   "cell_type": "code",
   "execution_count": 11,
   "id": "c1fda9f2",
   "metadata": {},
   "outputs": [
    {
     "name": "stdout",
     "output_type": "stream",
     "text": [
      "Before removing [3.14, 'cat', 11, 'cat', True, 99]\n",
      "After removing [3.14, 11, 'cat', True, 99]\n"
     ]
    }
   ],
   "source": [
    "# remove method will remove the first occurance of 'cat'\n",
    "print('Before removing',bacon)\n",
    "bacon.remove('cat')\n",
    "print('After removing',bacon)"
   ]
  },
  {
   "cell_type": "markdown",
   "id": "a4f466b8",
   "metadata": {},
   "source": [
    "# 9. What are the list concatenation and list replication operators?"
   ]
  },
  {
   "cell_type": "code",
   "execution_count": 14,
   "id": "3f514315",
   "metadata": {},
   "outputs": [
    {
     "name": "stdout",
     "output_type": "stream",
     "text": [
      "[1,2,3] + [4,5] --> [1, 2, 3, 4, 5]\n",
      "[8,9] * 2 --> [8, 9, 8, 9]\n"
     ]
    }
   ],
   "source": [
    "#list concatenation is done by plus(+) symbol\n",
    "#list replication is done by asterick(*) symbol\n",
    "print('[1,2,3]','+','[4,5] -->',[1,2,3] + [4,5])\n",
    "print('[8,9]','*','2 -->',[8,9] * 2)"
   ]
  },
  {
   "cell_type": "markdown",
   "id": "5c0ccb4e",
   "metadata": {},
   "source": [
    "# 10. What is difference between the list methods append() and insert()?"
   ]
  },
  {
   "cell_type": "code",
   "execution_count": null,
   "id": "7be76957",
   "metadata": {},
   "outputs": [],
   "source": [
    "append() -- > adds value at the last position\n",
    "ex --> l.append([2,3])\n",
    "insert() -- > adds value at the specified position\n",
    "ex --> l.insert(2, 45)"
   ]
  },
  {
   "cell_type": "markdown",
   "id": "25385485",
   "metadata": {},
   "source": [
    "# 11. What are the two methods for removing items from a list?"
   ]
  },
  {
   "cell_type": "code",
   "execution_count": null,
   "id": "a570c36a",
   "metadata": {},
   "outputs": [],
   "source": [
    "1) remove()\n",
    "2) pop()"
   ]
  },
  {
   "cell_type": "markdown",
   "id": "7f9eb84d",
   "metadata": {},
   "source": [
    "# 12. Describe how list values and string values are identical."
   ]
  },
  {
   "cell_type": "code",
   "execution_count": null,
   "id": "50eef188",
   "metadata": {},
   "outputs": [],
   "source": [
    "they share some common properties like-\n",
    "1) they both store values in sequence\n",
    "2) they both can operates with indexing and slicing\n",
    "3) concatenation and replication can be done on both\n",
    "so on..."
   ]
  },
  {
   "cell_type": "markdown",
   "id": "87c82a3c",
   "metadata": {},
   "source": [
    "# 13. What's the difference between tuples and lists?"
   ]
  },
  {
   "cell_type": "code",
   "execution_count": null,
   "id": "56381e6b",
   "metadata": {},
   "outputs": [],
   "source": [
    "list                             tuple\n",
    "\n",
    "mutable                          immutable\n",
    "\n",
    "values can be add                values can't be add or remove\n",
    "remove as per the need"
   ]
  },
  {
   "cell_type": "markdown",
   "id": "99674db4",
   "metadata": {},
   "source": [
    "# 14. How do you type a tuple value that only contains the integer 42?"
   ]
  },
  {
   "cell_type": "code",
   "execution_count": 18,
   "id": "33b27c99",
   "metadata": {},
   "outputs": [
    {
     "name": "stdout",
     "output_type": "stream",
     "text": [
      "<class 'tuple'>\n"
     ]
    }
   ],
   "source": [
    "t1 = (42,)\n",
    "\n",
    "print(type(t1))"
   ]
  },
  {
   "cell_type": "markdown",
   "id": "7b8e03eb",
   "metadata": {},
   "source": [
    "# 15. How do you get a list value's tuple form? How do you get a tuple value's list form?"
   ]
  },
  {
   "cell_type": "code",
   "execution_count": 19,
   "id": "d41d6f15",
   "metadata": {},
   "outputs": [
    {
     "name": "stdout",
     "output_type": "stream",
     "text": [
      "list value's in tuple form--> (1, 2, 3, 4, 5)\n",
      "tuple value's in list form--> [4, 8, 12, 16, 20]\n"
     ]
    }
   ],
   "source": [
    "t = (4,8,12,16,20)\n",
    "l = [1,2,3,4,5]\n",
    "\n",
    "print(\"list value's in tuple form-->\",tuple(l))\n",
    "print(\"tuple value's in list form-->\",list(t))"
   ]
  },
  {
   "cell_type": "markdown",
   "id": "0cc22033",
   "metadata": {},
   "source": [
    "# 16. Variables that &quot;contain&quot; list values are not necessarily lists themselves. Instead, what do they contain?"
   ]
  },
  {
   "cell_type": "code",
   "execution_count": null,
   "id": "c19e0e2b",
   "metadata": {},
   "outputs": [],
   "source": [
    "Variables will contain references to list values rather than list values themselves"
   ]
  },
  {
   "cell_type": "markdown",
   "id": "23999dca",
   "metadata": {},
   "source": [
    "# 17. How do you distinguish between copy.copy() and copy.deepcopy()?"
   ]
  },
  {
   "cell_type": "code",
   "execution_count": null,
   "id": "97274131",
   "metadata": {},
   "outputs": [],
   "source": [
    "copy just create a reference to the original onces\n",
    "whereas deepcopy create a new instance of the object."
   ]
  },
  {
   "cell_type": "code",
   "execution_count": null,
   "id": "be76d3e1",
   "metadata": {},
   "outputs": [],
   "source": []
  }
 ],
 "metadata": {
  "kernelspec": {
   "display_name": "Python 3 (ipykernel)",
   "language": "python",
   "name": "python3"
  },
  "language_info": {
   "codemirror_mode": {
    "name": "ipython",
    "version": 3
   },
   "file_extension": ".py",
   "mimetype": "text/x-python",
   "name": "python",
   "nbconvert_exporter": "python",
   "pygments_lexer": "ipython3",
   "version": "3.9.7"
  }
 },
 "nbformat": 4,
 "nbformat_minor": 5
}
