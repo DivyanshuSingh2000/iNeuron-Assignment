{
 "cells": [
  {
   "cell_type": "markdown",
   "id": "5cfc7b5e",
   "metadata": {},
   "source": [
    "# 1. Is the Python Standard Library included with PyInputPlus?"
   ]
  },
  {
   "cell_type": "code",
   "execution_count": null,
   "id": "0dd8298e",
   "metadata": {},
   "outputs": [],
   "source": [
    "No, we have to download it explicitly"
   ]
  },
  {
   "cell_type": "markdown",
   "id": "ad488ad8",
   "metadata": {},
   "source": [
    "# 2. Why is PyInputPlus commonly imported with import pyinputplus as pypi?"
   ]
  },
  {
   "cell_type": "code",
   "execution_count": null,
   "id": "88fe7cec",
   "metadata": {},
   "outputs": [],
   "source": [
    "Using alias is like giving a nickname to the module. it help us to write less and make use more efficient."
   ]
  },
  {
   "cell_type": "markdown",
   "id": "e5786e64",
   "metadata": {},
   "source": [
    "# 3. How do you distinguish between inputInt() and inputFloat()?"
   ]
  },
  {
   "cell_type": "code",
   "execution_count": null,
   "id": "18cfc4a8",
   "metadata": {},
   "outputs": [],
   "source": [
    "inputInt() --> Using this method, we are restricted to give int type of value only\n",
    "inputFloat() --> Using this method we can give int or flaot type of values. for int values it will be convert on go to float."
   ]
  },
  {
   "cell_type": "markdown",
   "id": "7641cc4a",
   "metadata": {},
   "source": [
    "# 4. Using PyInputPlus, how do you ensure that the user enters a whole number between 0 and 99?"
   ]
  },
  {
   "cell_type": "code",
   "execution_count": null,
   "id": "af6a71f6",
   "metadata": {},
   "outputs": [],
   "source": [
    "inputInt(min=0,max=99)"
   ]
  },
  {
   "cell_type": "markdown",
   "id": "348a50dc",
   "metadata": {},
   "source": [
    "# 5. What is transferred to the keyword arguments allowRegexes and blockRegexes?"
   ]
  },
  {
   "cell_type": "code",
   "execution_count": null,
   "id": "29142659",
   "metadata": {},
   "outputs": [],
   "source": [
    "allowRegexes are used to get some addition values as well.\n",
    "like if i want the user can input roman number then i can use allowRegexes and pass allowed value\n",
    "\n",
    "blockRegexes are just the opposite of allowRegexes, if i don't want a value or combination of values to be allowed then i can\n",
    "use blockRegexes."
   ]
  },
  {
   "cell_type": "markdown",
   "id": "28d16470",
   "metadata": {},
   "source": [
    "# 6. If a blank input is entered three times, what does inputStr(limit=3) do?"
   ]
  },
  {
   "cell_type": "code",
   "execution_count": null,
   "id": "13dd45aa",
   "metadata": {},
   "outputs": [],
   "source": [
    "if we exceeded the limit then we will get an error message."
   ]
  },
  {
   "cell_type": "markdown",
   "id": "b6ff037a",
   "metadata": {},
   "source": [
    "# 7. If blank input is entered three times, what does inputStr(limit=3, default='hello') do?"
   ]
  },
  {
   "cell_type": "code",
   "execution_count": null,
   "id": "25da3d31",
   "metadata": {},
   "outputs": [],
   "source": [
    "for the first 3 times we will get 'blank values are not allowed' after that 'hello' will be assigned to variable"
   ]
  }
 ],
 "metadata": {
  "kernelspec": {
   "display_name": "Python 3 (ipykernel)",
   "language": "python",
   "name": "python3"
  },
  "language_info": {
   "codemirror_mode": {
    "name": "ipython",
    "version": 3
   },
   "file_extension": ".py",
   "mimetype": "text/x-python",
   "name": "python",
   "nbconvert_exporter": "python",
   "pygments_lexer": "ipython3",
   "version": "3.9.7"
  }
 },
 "nbformat": 4,
 "nbformat_minor": 5
}
