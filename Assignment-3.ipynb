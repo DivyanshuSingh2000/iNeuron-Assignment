{
 "cells": [
  {
   "cell_type": "markdown",
   "id": "97c3c335",
   "metadata": {},
   "source": [
    "# 1. Why are functions advantageous to have in your programs?"
   ]
  },
  {
   "cell_type": "code",
   "execution_count": null,
   "id": "1d1dbf53",
   "metadata": {},
   "outputs": [],
   "source": [
    "Writing same piece of code again and again can decrease productivity and increase space used and the size of code.\n",
    "Using functions helps us to save time, space and even increase our productivity.\n",
    "just imagine you have write print function every time you use it."
   ]
  },
  {
   "cell_type": "markdown",
   "id": "e63d4106",
   "metadata": {},
   "source": [
    "# 2. When does the code in a function run: when it's specified or when it's called?"
   ]
  },
  {
   "cell_type": "code",
   "execution_count": null,
   "id": "fdee9122",
   "metadata": {},
   "outputs": [],
   "source": [
    "to run the code in a function we have to call the funtion (when it's called) "
   ]
  },
  {
   "cell_type": "markdown",
   "id": "afd9a16c",
   "metadata": {},
   "source": [
    "# 3. What statement creates a function?"
   ]
  },
  {
   "cell_type": "code",
   "execution_count": null,
   "id": "7df33449",
   "metadata": {},
   "outputs": [],
   "source": [
    "Syntax of function\n",
    "\n",
    "def function_Name(optional_parameters):\n",
    "    some code here"
   ]
  },
  {
   "cell_type": "markdown",
   "id": "e1cc6d7e",
   "metadata": {},
   "source": [
    "# 4. What is the difference between a function and a function call?"
   ]
  },
  {
   "cell_type": "code",
   "execution_count": null,
   "id": "8283ba65",
   "metadata": {},
   "outputs": [],
   "source": [
    "Function --> a funtion is the block of code, where we write what the func have to do\n",
    "function call --> to excute the block of code written in a function, we need to call it"
   ]
  },
  {
   "cell_type": "markdown",
   "id": "21b51ce0",
   "metadata": {},
   "source": [
    "# 5. How many global scopes are there in a Python program? How many local scopes?"
   ]
  },
  {
   "cell_type": "code",
   "execution_count": null,
   "id": "bd1264c8",
   "metadata": {},
   "outputs": [],
   "source": [
    "there is only one scope for global. it will remain until the program is terminated.\n",
    "the no. of local scope can depend how many func are present."
   ]
  },
  {
   "cell_type": "markdown",
   "id": "b2a480ec",
   "metadata": {},
   "source": [
    "# 6. What happens to variables in a local scope when the function call returns?"
   ]
  },
  {
   "cell_type": "code",
   "execution_count": null,
   "id": "76128abb",
   "metadata": {},
   "outputs": [],
   "source": [
    "All information regarding that variable is deleted."
   ]
  },
  {
   "cell_type": "markdown",
   "id": "00a39fd1",
   "metadata": {},
   "source": [
    "# 7. What is the concept of a return value? Is it possible to have a return value in an expression?"
   ]
  },
  {
   "cell_type": "code",
   "execution_count": null,
   "id": "1603bba6",
   "metadata": {},
   "outputs": [],
   "source": [
    "Whatever value we pass in return keyword, that value will go at the calling position of the func.\n",
    "it is possible to return an expression."
   ]
  },
  {
   "cell_type": "markdown",
   "id": "3ad939c2",
   "metadata": {},
   "source": [
    "# 8. If a function does not have a return statement, what is the return value of a call to that function?"
   ]
  },
  {
   "cell_type": "code",
   "execution_count": 1,
   "id": "99ec00ce",
   "metadata": {},
   "outputs": [
    {
     "name": "stdout",
     "output_type": "stream",
     "text": [
      "None\n"
     ]
    }
   ],
   "source": [
    "#None will we returned\n",
    "def rer():\n",
    "    pass\n",
    "print(rer())"
   ]
  },
  {
   "cell_type": "markdown",
   "id": "34068ed9",
   "metadata": {},
   "source": [
    "# 9. How do you make a function variable refer to the global variable?"
   ]
  },
  {
   "cell_type": "code",
   "execution_count": 3,
   "id": "d17bb723",
   "metadata": {},
   "outputs": [
    {
     "name": "stdout",
     "output_type": "stream",
     "text": [
      "4\n"
     ]
    }
   ],
   "source": [
    "#By using global keyword before the variable name.\n",
    "\n",
    "def g():\n",
    "    global x\n",
    "    x =4\n",
    "g()\n",
    "print(x)"
   ]
  },
  {
   "cell_type": "markdown",
   "id": "2d03a0cb",
   "metadata": {},
   "source": [
    "# 10. What is the data type of None?"
   ]
  },
  {
   "cell_type": "code",
   "execution_count": 4,
   "id": "be7bfae4",
   "metadata": {},
   "outputs": [
    {
     "data": {
      "text/plain": [
       "NoneType"
      ]
     },
     "execution_count": 4,
     "metadata": {},
     "output_type": "execute_result"
    }
   ],
   "source": [
    "type(None)"
   ]
  },
  {
   "cell_type": "markdown",
   "id": "05b970de",
   "metadata": {},
   "source": [
    "# 11. What does the sentence import areallyourpetsnamederic do?"
   ]
  },
  {
   "cell_type": "code",
   "execution_count": null,
   "id": "b5da6bc1",
   "metadata": {},
   "outputs": [],
   "source": [
    "import areallyourpetsnamederic will import everything written in areallyourpetsnamederic module."
   ]
  },
  {
   "cell_type": "markdown",
   "id": "d3f1bb57",
   "metadata": {},
   "source": [
    "# 12. If you had a bacon() feature in a spam module, what would you call it after importing spam?"
   ]
  },
  {
   "cell_type": "code",
   "execution_count": null,
   "id": "68cb30f1",
   "metadata": {},
   "outputs": [],
   "source": [
    "spam.bacon()"
   ]
  },
  {
   "cell_type": "markdown",
   "id": "da738874",
   "metadata": {},
   "source": [
    "# 13. What can you do to save a programme from crashing if it encounters an error?"
   ]
  },
  {
   "cell_type": "code",
   "execution_count": null,
   "id": "d8959ae6",
   "metadata": {},
   "outputs": [],
   "source": [
    "we can use error handling mechanism.\n",
    "try:\n",
    "    code that might have some error\n",
    "catch:\n",
    "    if error occurs then what to do\n",
    "finally:\n",
    "    excute some important lines of code"
   ]
  },
  {
   "cell_type": "markdown",
   "id": "bce4e7a0",
   "metadata": {},
   "source": [
    "# 14. What is the purpose of the try clause? What is the purpose of the except clause?"
   ]
  },
  {
   "cell_type": "code",
   "execution_count": null,
   "id": "3222f9fe",
   "metadata": {},
   "outputs": [],
   "source": [
    "try:\n",
    "    code that might have some error\n",
    "catch:\n",
    "    if error occurs then what to do\n",
    "    there can be multiple catch statement"
   ]
  },
  {
   "cell_type": "code",
   "execution_count": null,
   "id": "a9f7bc1b",
   "metadata": {},
   "outputs": [],
   "source": []
  }
 ],
 "metadata": {
  "kernelspec": {
   "display_name": "Python 3 (ipykernel)",
   "language": "python",
   "name": "python3"
  },
  "language_info": {
   "codemirror_mode": {
    "name": "ipython",
    "version": 3
   },
   "file_extension": ".py",
   "mimetype": "text/x-python",
   "name": "python",
   "nbconvert_exporter": "python",
   "pygments_lexer": "ipython3",
   "version": "3.9.7"
  }
 },
 "nbformat": 4,
 "nbformat_minor": 5
}
