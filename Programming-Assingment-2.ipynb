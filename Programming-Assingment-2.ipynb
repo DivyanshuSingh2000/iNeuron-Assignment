{
 "cells": [
  {
   "cell_type": "markdown",
   "id": "70c99750",
   "metadata": {},
   "source": [
    "# 1. Write a Python program to convert kilometers to miles?\n"
   ]
  },
  {
   "cell_type": "code",
   "execution_count": 1,
   "id": "6aafe1c7",
   "metadata": {},
   "outputs": [
    {
     "name": "stdout",
     "output_type": "stream",
     "text": [
      "Enter distance in KiloMeter : 144\n",
      "Same Distance in mile will be : 89.47728\n"
     ]
    }
   ],
   "source": [
    "from pyinputplus import inputFloat\n",
    "km = inputFloat(\"Enter distance in KiloMeter : \", min=0)\n",
    "\n",
    "#coverting\n",
    "#1 kilometer (km) = 0.62137 miles (mi)\n",
    "miles = 0.62137 * km\n",
    "\n",
    "print(\"Same Distance in mile will be :\",miles)"
   ]
  },
  {
   "cell_type": "markdown",
   "id": "24bf3c6c",
   "metadata": {},
   "source": [
    "# 2. Write a Python program to convert Celsius to Fahrenheit?\n"
   ]
  },
  {
   "cell_type": "code",
   "execution_count": 2,
   "id": "abe828c9",
   "metadata": {},
   "outputs": [
    {
     "name": "stdout",
     "output_type": "stream",
     "text": [
      "Enter temperature in celsius: 32\n",
      "Same temperature in fahrenheit will be : 89.6\n"
     ]
    }
   ],
   "source": [
    "c = float(input(\"Enter temperature in celsius: \"))\n",
    "\n",
    "#°F = (°C x 1.8) + 32\n",
    "\n",
    "f = (c * 1.8) + 32\n",
    "print(\"Same temperature in fahrenheit will be :\",f)"
   ]
  },
  {
   "cell_type": "markdown",
   "id": "05683cd4",
   "metadata": {},
   "source": [
    "# 3. Write a Python program to display calendar?\n"
   ]
  },
  {
   "cell_type": "code",
   "execution_count": 2,
   "id": "ebded693",
   "metadata": {},
   "outputs": [
    {
     "name": "stdout",
     "output_type": "stream",
     "text": [
      "Enter the year : 2022\n",
      "Enter the month : 06\n",
      "     June 2022\n",
      "Mo Tu We Th Fr Sa Su\n",
      "       1  2  3  4  5\n",
      " 6  7  8  9 10 11 12\n",
      "13 14 15 16 17 18 19\n",
      "20 21 22 23 24 25 26\n",
      "27 28 29 30\n",
      "\n"
     ]
    }
   ],
   "source": [
    "import calendar as ca\n",
    "import pyinputplus as pp\n",
    "\n",
    "year = pp.inputInt(\"Enter the year : \")\n",
    "month = pp.inputInt(\"Enter the month : \",min= 1, max= 12)\n",
    "print(ca.month(year,month))"
   ]
  },
  {
   "cell_type": "markdown",
   "id": "02adfc58",
   "metadata": {},
   "source": [
    "# 4. Write a Python program to solve quadratic equation?\n"
   ]
  },
  {
   "cell_type": "code",
   "execution_count": 5,
   "id": "e3f30300",
   "metadata": {},
   "outputs": [
    {
     "name": "stdout",
     "output_type": "stream",
     "text": [
      " real and different roots \n",
      "2.0\n",
      "-12.0\n"
     ]
    }
   ],
   "source": [
    "import math\n",
    "\n",
    "#funtion to find root values\n",
    "def roots(a,b,c):\n",
    "    # calculating discriminant using formula\n",
    "    dis = b * b - 4 * a * c\n",
    "    sqrt_val = math.sqrt(abs(dis))\n",
    "      # checking condition for discriminant\n",
    "    if dis > 0: \n",
    "        print(\" real and different roots \") \n",
    "        print((-b + sqrt_val)/(2 * a)) \n",
    "        print((-b - sqrt_val)/(2 * a)) \n",
    "      \n",
    "    elif dis == 0: \n",
    "        print(\" real and same roots\") \n",
    "        print(-b / (2 * a)) \n",
    "      \n",
    "    # when discriminant is less than 0\n",
    "    else:\n",
    "        print(\"Complex Roots\") \n",
    "        print(- b / (2 * a), \" + i\", sqrt_val) \n",
    "        print(- b / (2 * a), \" - i\", sqrt_val)\n",
    "\n",
    "a = 1\n",
    "b = 10\n",
    "c = -24\n",
    "  \n",
    "# If a is 0, then incorrect equation\n",
    "if a == 0: \n",
    "        print(\"Input correct quadratic equation\") \n",
    "else:\n",
    "    roots(a, b, c)"
   ]
  },
  {
   "cell_type": "markdown",
   "id": "ba49b54c",
   "metadata": {},
   "source": [
    "# 5. Write a Python program to swap two variables without temp variable?"
   ]
  },
  {
   "cell_type": "code",
   "execution_count": 7,
   "id": "a5c8d88d",
   "metadata": {},
   "outputs": [
    {
     "name": "stdout",
     "output_type": "stream",
     "text": [
      "swaping values of a, b are 10 5\n",
      "swaped values of a,b 5 10\n"
     ]
    }
   ],
   "source": [
    "a = 10 \n",
    "b = 5\n",
    "print(\"swaping values of a, b are\",a,b)\n",
    "    #swaping\n",
    "a = a+b \n",
    "b = a-b\n",
    "a = a-b\n",
    "print(\"swaped values of a,b\",a,b)"
   ]
  },
  {
   "cell_type": "code",
   "execution_count": null,
   "id": "ec457f40",
   "metadata": {},
   "outputs": [],
   "source": []
  }
 ],
 "metadata": {
  "kernelspec": {
   "display_name": "Python 3 (ipykernel)",
   "language": "python",
   "name": "python3"
  },
  "language_info": {
   "codemirror_mode": {
    "name": "ipython",
    "version": 3
   },
   "file_extension": ".py",
   "mimetype": "text/x-python",
   "name": "python",
   "nbconvert_exporter": "python",
   "pygments_lexer": "ipython3",
   "version": "3.9.7"
  }
 },
 "nbformat": 4,
 "nbformat_minor": 5
}
