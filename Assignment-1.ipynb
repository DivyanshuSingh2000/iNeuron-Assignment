{
 "cells": [
  {
   "cell_type": "markdown",
   "id": "ecf2517e",
   "metadata": {},
   "source": [
    "# Q1"
   ]
  },
  {
   "cell_type": "markdown",
   "id": "5d023a29",
   "metadata": {},
   "source": [
    "* \n",
    "(Expression)\n",
    "\n",
    "'Hello'\n",
    "(Value String type)\n",
    "\n",
    "-87.8\n",
    "(Value floating type)\n",
    "\n",
    "-\n",
    "(Expression)\n",
    "\n",
    "/\n",
    "(Expression)\n",
    "\n",
    "+\n",
    "(Expression)\n",
    "\n",
    "6\n",
    "(Value Int Type)"
   ]
  },
  {
   "cell_type": "markdown",
   "id": "992120c6",
   "metadata": {},
   "source": [
    "# 2. What is the difference between string and variable?"
   ]
  },
  {
   "cell_type": "markdown",
   "id": "b2e85a4e",
   "metadata": {},
   "source": [
    "A string is a data type used to store a sequence of characters, we can create a string using single, double or triple quotes.\n",
    "Example 'hello',\"it's new\"\n",
    "Where as variables are used to store data (like int , float, str,bool,..)\n",
    "there is various conditions to make variables like characters and digits and underscore can only be used in variable naming.\n",
    "and variables can not start with digit and can not be a keyword"
   ]
  },
  {
   "cell_type": "markdown",
   "id": "fad1c495",
   "metadata": {},
   "source": [
    "# Q3 Describe three different data types."
   ]
  },
  {
   "cell_type": "markdown",
   "id": "95a64e9f",
   "metadata": {},
   "source": [
    "1) int --> numbers without any decimal values are called integer type like 1 2 3 68\n",
    "2) float --> numbers with any decimal are called float like 5.6 8.4\n",
    "3) boolean --> True and False are consider in bool type."
   ]
  },
  {
   "cell_type": "markdown",
   "id": "a0d0050f",
   "metadata": {},
   "source": [
    "# Q4. What is an expression made up of? What do all expressions do?"
   ]
  },
  {
   "cell_type": "markdown",
   "id": "e77be5d1",
   "metadata": {},
   "source": [
    "expression is a collection of operators and operands like 8+9/7-9\n",
    "we used expression to get a particular result"
   ]
  },
  {
   "cell_type": "markdown",
   "id": "cac80156",
   "metadata": {},
   "source": [
    "# 5. This assignment statements, like spam = 10. What is the difference between an expression and a statement?"
   ]
  },
  {
   "cell_type": "markdown",
   "id": "419c2e1e",
   "metadata": {},
   "source": [
    "Expression only have operators and operands like 9*8/5\n",
    "where in assignment operations we store the expressions result in a variable like a = 9*8/5"
   ]
  },
  {
   "cell_type": "markdown",
   "id": "3db1b78f",
   "metadata": {},
   "source": [
    "# Q6. After running the following code, what does the variable bacon contain?\n",
    "## bacon = 22\n",
    "## bacon + 1"
   ]
  },
  {
   "cell_type": "markdown",
   "id": "4a72be82",
   "metadata": {},
   "source": [
    "bacon will contain 22 as bacon + 1 is not saving in bacon"
   ]
  },
  {
   "cell_type": "markdown",
   "id": "7f6d98a9",
   "metadata": {},
   "source": [
    "# Q7. What should the values of the following two terms be?\n",
    "## 'spam' + 'spamspam'\n",
    "## 'spam' * 3"
   ]
  },
  {
   "cell_type": "raw",
   "id": "eca2f527",
   "metadata": {},
   "source": [
    "spamspamspam\n",
    "spamspamspam"
   ]
  },
  {
   "cell_type": "markdown",
   "id": "c6790f23",
   "metadata": {},
   "source": [
    "# Q8. Why is eggs a valid variable name while 100 is invalid?"
   ]
  },
  {
   "cell_type": "raw",
   "id": "678c9fdc",
   "metadata": {},
   "source": [
    "Variables name can be start from characters and underscore but starting with digit is not allowed\n",
    "that is why eggs is allowed and 100 is not"
   ]
  },
  {
   "cell_type": "markdown",
   "id": "85eedfc4",
   "metadata": {},
   "source": [
    "# Q9. What three functions can be used to get the integer, floating-point number, or string version of a value?"
   ]
  },
  {
   "cell_type": "raw",
   "id": "5a092ab9",
   "metadata": {},
   "source": [
    "int() --> int\n",
    "float() --> floats\n",
    "str() --> string "
   ]
  },
  {
   "cell_type": "markdown",
   "id": "bc85af09",
   "metadata": {},
   "source": [
    "# 10. Why does this expression cause an error? How can you fix it?\n",
    "#### 'I have eaten '+ 99+'burritos'"
   ]
  },
  {
   "cell_type": "raw",
   "id": "f8b88f2b",
   "metadata": {},
   "source": [
    "int and str can not be added, change 99 to str(99)"
   ]
  },
  {
   "cell_type": "code",
   "execution_count": null,
   "id": "1c996397",
   "metadata": {},
   "outputs": [],
   "source": []
  }
 ],
 "metadata": {
  "kernelspec": {
   "display_name": "Python 3 (ipykernel)",
   "language": "python",
   "name": "python3"
  },
  "language_info": {
   "codemirror_mode": {
    "name": "ipython",
    "version": 3
   },
   "file_extension": ".py",
   "mimetype": "text/x-python",
   "name": "python",
   "nbconvert_exporter": "python",
   "pygments_lexer": "ipython3",
   "version": "3.9.7"
  }
 },
 "nbformat": 4,
 "nbformat_minor": 5
}
