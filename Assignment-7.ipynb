{
 "cells": [
  {
   "cell_type": "markdown",
   "id": "1f8e3200",
   "metadata": {},
   "source": [
    "# 1. What is the name of the feature responsible for generating Regex objects?\n"
   ]
  },
  {
   "cell_type": "code",
   "execution_count": null,
   "id": "ee229c7c",
   "metadata": {},
   "outputs": [],
   "source": [
    "re.compile is responsible for generating Regex object"
   ]
  },
  {
   "cell_type": "markdown",
   "id": "b4068f0d",
   "metadata": {},
   "source": [
    "# 2. Why do raw strings often appear in Regex objects?\n"
   ]
  },
  {
   "cell_type": "code",
   "execution_count": null,
   "id": "6a51f81f",
   "metadata": {},
   "outputs": [],
   "source": [
    "Raw string does not escape anything so it make more convenient to use it because in regex be use alot of \\. "
   ]
  },
  {
   "cell_type": "markdown",
   "id": "70a44772",
   "metadata": {},
   "source": [
    "# 3. What is the return value of the search() method?\n"
   ]
  },
  {
   "cell_type": "code",
   "execution_count": null,
   "id": "ee3496a3",
   "metadata": {},
   "outputs": [],
   "source": [
    "it searches the string which is passed in with the regex\n",
    "if match is found it will return the match object\n",
    "else it will return a None"
   ]
  },
  {
   "cell_type": "markdown",
   "id": "cc52e500",
   "metadata": {},
   "source": [
    "# 4. From a Match item, how do you get the actual strings that match the pattern?\n"
   ]
  },
  {
   "cell_type": "code",
   "execution_count": null,
   "id": "bc9bbaa7",
   "metadata": {},
   "outputs": [],
   "source": [
    "we can use group() on match object to get actual string"
   ]
  },
  {
   "cell_type": "markdown",
   "id": "3886211c",
   "metadata": {},
   "source": [
    "# 5. In the regex which created from the r'(\\d\\d\\d)-(\\d\\d\\d-\\d\\d\\d\\d)', what does group zero cover? Group 2? Group 1?\n"
   ]
  },
  {
   "cell_type": "code",
   "execution_count": 4,
   "id": "356407e7",
   "metadata": {},
   "outputs": [
    {
     "name": "stdout",
     "output_type": "stream",
     "text": [
      "415-555-4242\n",
      "415\n",
      "555-4242\n"
     ]
    }
   ],
   "source": [
    "import re\n",
    "phn = re.compile(r'(\\d\\d\\d)-(\\d\\d\\d-\\d\\d\\d\\d)')\n",
    "mo = phn.search(\"My phone no is 415-555-4242\")\n",
    "print(mo.group(0)) # entire set\n",
    "print(mo.group(1)) #first set of parentheses\n",
    "print(mo.group(2)) #second set of parentheses"
   ]
  },
  {
   "cell_type": "markdown",
   "id": "8554f96d",
   "metadata": {},
   "source": [
    "## 6. In standard expression syntax, parentheses and intervals have distinct meanings. How can you tell a regex that you want it to fit real parentheses and periods?\n"
   ]
  },
  {
   "cell_type": "code",
   "execution_count": null,
   "id": "1290b1c2",
   "metadata": {},
   "outputs": [],
   "source": [
    "to use parentheses in regex we can use escape character before it.\n",
    "\\( and \\) --> this will work fine"
   ]
  },
  {
   "cell_type": "markdown",
   "id": "5a29cd7c",
   "metadata": {},
   "source": [
    "# 7. The findall() method returns a string list or a list of string tuples. What causes it to return one of the two options?\n"
   ]
  },
  {
   "cell_type": "code",
   "execution_count": null,
   "id": "7ec758c5",
   "metadata": {},
   "outputs": [],
   "source": [
    "If the regex has no groups, a list of strings is returned.\n",
    "If the regex has groups, a list of tuples of strings is returned."
   ]
  },
  {
   "cell_type": "markdown",
   "id": "efc54d7b",
   "metadata": {},
   "source": [
    "# 8. In standard expressions, what does the | character mean?\n"
   ]
  },
  {
   "cell_type": "code",
   "execution_count": null,
   "id": "7c5d8659",
   "metadata": {},
   "outputs": [],
   "source": [
    "| is known as pipe and it work like a OR operator in python.\n",
    "The | character signifies matching “either, or” between two groups."
   ]
  },
  {
   "cell_type": "markdown",
   "id": "36d67e6c",
   "metadata": {},
   "source": [
    "# 9. In regular expressions, what does  the character stand for?\n"
   ]
  },
  {
   "cell_type": "code",
   "execution_count": null,
   "id": "ac0d0e9f",
   "metadata": {},
   "outputs": [],
   "source": [
    "The ? character can either mean “match zero or one of the preceding group” or be used to signify nongreedy matching."
   ]
  },
  {
   "cell_type": "markdown",
   "id": "9d66c1eb",
   "metadata": {},
   "source": [
    "# 10.In regular expressions, what is the difference between the + and * characters?"
   ]
  },
  {
   "cell_type": "code",
   "execution_count": null,
   "id": "24029f30",
   "metadata": {},
   "outputs": [],
   "source": [
    "+ --> one or more characters\n",
    "* --> zero or more characters"
   ]
  },
  {
   "cell_type": "markdown",
   "id": "6a426033",
   "metadata": {},
   "source": [
    "# 11. What is the difference between {4} and {4,5} in regular expression?\n"
   ]
  },
  {
   "cell_type": "code",
   "execution_count": null,
   "id": "0b79cb8a",
   "metadata": {},
   "outputs": [],
   "source": [
    "{4} --> it will match exactly four instances\n",
    "{4,5} --> it will match in between four and five instances"
   ]
  },
  {
   "cell_type": "markdown",
   "id": "793de327",
   "metadata": {},
   "source": [
    "# 12. What do you mean by the \\d, \\w, and \\s shorthand character classes signify in regular expressions?\n"
   ]
  },
  {
   "cell_type": "code",
   "execution_count": null,
   "id": "c498edc2",
   "metadata": {},
   "outputs": [],
   "source": [
    "\\d --> a digit\n",
    "\\w --> a word\n",
    "\\s --> a space"
   ]
  },
  {
   "cell_type": "markdown",
   "id": "067d0fec",
   "metadata": {},
   "source": [
    "# 13. What do means by \\D, \\W, and \\S shorthand character classes signify in regular expressions?\n"
   ]
  },
  {
   "cell_type": "code",
   "execution_count": null,
   "id": "bdd270ee",
   "metadata": {},
   "outputs": [],
   "source": [
    "\\D --> not a digit\n",
    "\\W --> not a word\n",
    "\\S --> not a space"
   ]
  },
  {
   "cell_type": "markdown",
   "id": "0a23b892",
   "metadata": {},
   "source": [
    "# 14. What is the difference between .* ? and .* ?\n"
   ]
  },
  {
   "cell_type": "code",
   "execution_count": null,
   "id": "fdb577bc",
   "metadata": {},
   "outputs": [],
   "source": [
    "The .* performs a greedy match, and the .*? performs a nongreedy match"
   ]
  },
  {
   "cell_type": "markdown",
   "id": "50f6a45b",
   "metadata": {},
   "source": [
    "# 15. What is the syntax for matching both numbers and lowercase letters with a character class?\n"
   ]
  },
  {
   "cell_type": "code",
   "execution_count": null,
   "id": "1a9928dd",
   "metadata": {},
   "outputs": [],
   "source": [
    "[0-9a-z] or [a-z0-9]"
   ]
  },
  {
   "cell_type": "markdown",
   "id": "e5324a7c",
   "metadata": {},
   "source": [
    "# 16. What is the procedure for making a normal expression in regax case insensitive?\n"
   ]
  },
  {
   "cell_type": "code",
   "execution_count": null,
   "id": "03045b8a",
   "metadata": {},
   "outputs": [],
   "source": [
    "Passing re.I or re.IGNORECASE as the second argument to re.compile() will make the matching case insensitive."
   ]
  },
  {
   "cell_type": "markdown",
   "id": "154fe7f1",
   "metadata": {},
   "source": [
    "## 17. What does the . character normally match? What does it match if re.DOTALL is passed as 2nd argument in re.compile()?\n"
   ]
  },
  {
   "cell_type": "code",
   "execution_count": null,
   "id": "7f157149",
   "metadata": {},
   "outputs": [],
   "source": [
    "The . character normally matches any character except the newline character.\n",
    "If re.DOTALL is passed as the second argument to re.compile(), then the dot will also match newline characters."
   ]
  },
  {
   "cell_type": "markdown",
   "id": "dea63f43",
   "metadata": {},
   "source": [
    "## 18. If numReg = re.compile(r'\\d+'), what will numRegex.sub('X', '11 drummers, 10 pipers, five rings, 4 hen') return?"
   ]
  },
  {
   "cell_type": "code",
   "execution_count": 5,
   "id": "de58ff47",
   "metadata": {},
   "outputs": [
    {
     "data": {
      "text/plain": [
       "'X drummers, X pipers, five rings, X hens'"
      ]
     },
     "execution_count": 5,
     "metadata": {},
     "output_type": "execute_result"
    }
   ],
   "source": [
    "import re\n",
    "numRegex = re.compile(r'\\d+')\n",
    "numRegex.sub('X', '12 drummers, 11 pipers, five rings, 3 hens')"
   ]
  },
  {
   "cell_type": "markdown",
   "id": "b12ef249",
   "metadata": {},
   "source": [
    "# 19. What does passing re.VERBOSE as the 2nd argument to re.compile() allow to do?\n"
   ]
  },
  {
   "cell_type": "code",
   "execution_count": null,
   "id": "33024a87",
   "metadata": {},
   "outputs": [],
   "source": [
    "The re.VERBOSE argument allows you to add whitespace and comments to the string passed to re.compile()."
   ]
  },
  {
   "cell_type": "markdown",
   "id": "54165fde",
   "metadata": {},
   "source": [
    "## 20. How would you write a regex that match a number with comma for every three digits? It must match the given following:\n",
    "### '42'\n",
    "### '1,234'\n",
    "### '6,368,745'\n",
    " \n",
    "### but not the following:\n",
    "### '12,34,567' (which has only two digits between the commas)\n",
    "### '1234' (which lacks commas)\n"
   ]
  },
  {
   "cell_type": "code",
   "execution_count": null,
   "id": "8acee2d5",
   "metadata": {},
   "outputs": [],
   "source": [
    "r'^\\d{1,3}(,\\d{3})*$'"
   ]
  },
  {
   "cell_type": "markdown",
   "id": "423099d5",
   "metadata": {},
   "source": [
    "#### 21. How would you write a regex that matches the full name of someone whose last name is Watanabe? You can assume that the first name that comes before it will always be one word that begins with a capital letter. The regex must match the following:\n",
    "## 'Haruto Watanabe'\n",
    "## 'Alice Watanabe'\n",
    "## 'RoboCop Watanabe'\n",
    "## but not the following:\n",
    "## 'haruto Watanabe' (where the first name is not capitalized)\n",
    "## 'Mr. Watanabe' (where the preceding word has a nonletter character)\n",
    "## 'Watanabe' (which has no first name)\n",
    "## 'Haruto watanabe' (where Watanabe is not capitalized)\n"
   ]
  },
  {
   "cell_type": "code",
   "execution_count": null,
   "id": "a31997cb",
   "metadata": {},
   "outputs": [],
   "source": [
    "r'[A-Z][a-z]*\\sWatanable'"
   ]
  },
  {
   "cell_type": "markdown",
   "id": "6257edee",
   "metadata": {},
   "source": [
    "### 22. How would you write a regex that matches a sentence where the first word is either Alice, Bob, or Carol; the second word is either eats, pets, or throws; the third word is apples, cats, or baseballs; and the sentence ends with a period? This regex should be case-insensitive. It must match the following:\n",
    "### 'Alice eats apples.'\n",
    "### 'Bob pets cats.'\n",
    "### 'Carol throws baseballs.'\n",
    "### 'Alice throws Apples.'\n",
    "### 'BOB EATS CATS.'\n",
    "### but not the following:\n",
    "### 'RoboCop eats apples.'\n",
    "### 'ALICE THROWS FOOTBALLS.'\n",
    "### 'Carol eats 7 cats.'"
   ]
  },
  {
   "cell_type": "code",
   "execution_count": null,
   "id": "5e7a3c47",
   "metadata": {},
   "outputs": [],
   "source": [
    "re.compile(r'(Alice|Bob|Carol)\\s(eats|pets|throws)\\s(apples|cats|baseballs)\\.', re.IGNORECASE)"
   ]
  }
 ],
 "metadata": {
  "kernelspec": {
   "display_name": "Python 3 (ipykernel)",
   "language": "python",
   "name": "python3"
  },
  "language_info": {
   "codemirror_mode": {
    "name": "ipython",
    "version": 3
   },
   "file_extension": ".py",
   "mimetype": "text/x-python",
   "name": "python",
   "nbconvert_exporter": "python",
   "pygments_lexer": "ipython3",
   "version": "3.9.7"
  }
 },
 "nbformat": 4,
 "nbformat_minor": 5
}
